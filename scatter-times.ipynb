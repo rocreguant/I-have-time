{
 "cells": [
  {
   "cell_type": "code",
   "execution_count": 18,
   "metadata": {
    "collapsed": false
   },
   "outputs": [],
   "source": [
    "import matplotlib.pyplot\n",
    "import pylab\n",
    "import timeit\n",
    "%matplotlib inline  \n",
    "\n",
    "\n"
   ]
  },
  {
   "cell_type": "code",
   "execution_count": 19,
   "metadata": {
    "collapsed": false
   },
   "outputs": [
    {
     "data": {
      "image/png": "[encoded data removed]",
      "text/plain": [
       "<matplotlib.figure.Figure at 0x7f6b4e1da950>"
      ]
     },
     "metadata": {},
     "output_type": "display_data"
    },
    {
     "name": "stdout",
     "output_type": "stream",
     "text": [
      "6.28740596771\n"
     ]
    }
   ],
   "source": [
    "start_time = timeit.default_timer()\n",
    "for x in range(100):\n",
    "    for y in range(10):\n",
    "        matplotlib.pyplot.scatter(x,y)\n",
    "\n",
    "matplotlib.pyplot.show()\n",
    "end_time = timeit.default_timer()\n",
    "print(end_time - start_time)"
   ]
  },
  {
   "cell_type": "code",
   "execution_count": 20,
   "metadata": {
    "collapsed": false
   },
   "outputs": [
    {
     "data": {
      "image/png": "[encoded data removed]",
      "text/plain": [
       "<matplotlib.figure.Figure at 0x7f6b57294690>"
      ]
     },
     "metadata": {},
     "output_type": "display_data"
    },
    {
     "name": "stdout",
     "output_type": "stream",
     "text": [
      "0.304481983185\n"
     ]
    }
   ],
   "source": [
    "xlist = []\n",
    "ylist = []\n",
    "\n",
    "start_time = timeit.default_timer()\n",
    "for x in range(100):\n",
    "    for y in range(10):\n",
    "        xlist.append(x)\n",
    "        ylist.append(y)\n",
    "\n",
    "matplotlib.pyplot.scatter(xlist, ylist)\n",
    "matplotlib.pyplot.show()\n",
    "end_time = timeit.default_timer()\n",
    "print(end_time - start_time)"
   ]
  }
 ],
 "metadata": {
  "kernelspec": {
   "display_name": "Python 2",
   "language": "python",
   "name": "python2"
  },
  "language_info": {
   "codemirror_mode": {
    "name": "ipython",
    "version": 2
   },
   "file_extension": ".py",
   "mimetype": "text/x-python",
   "name": "python",
   "nbconvert_exporter": "python",
   "pygments_lexer": "ipython2",
   "version": "2.7.6"
  }
 },
 "nbformat": 4,
 "nbformat_minor": 0
}
