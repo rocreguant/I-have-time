{
 "cells": [
  {
   "cell_type": "code",
   "execution_count": null,
   "metadata": {
    "collapsed": false
   },
   "outputs": [],
   "source": [
    "import re\n",
    "import os\n",
    "import gzip\n",
    "import requests\n",
    "from lxml import html\n",
    "from Bio import SeqIO"
   ]
  },
  {
   "cell_type": "code",
   "execution_count": null,
   "metadata": {
    "collapsed": false
   },
   "outputs": [],
   "source": [
    "#Enter your clan ID\n",
    "clan_id = \"CL0023\"\n",
    "\n",
    "#Setting the absolute clan url\n",
    "clan_url = \"http://pfam.xfam.org/clan/\"+clan_id\n",
    "\n",
    "#Getting the HTML and building the tree to query\n",
    "response = requests.get(clan_url)\n",
    "tree = html.fromstring(response.content)\n",
    "\n",
    "#Get all pfam id and names\n",
    "pfam_id = tree.xpath('//span[@class=\"listItem\"]/a/@title')\n",
    "pfam_names = tree.xpath('//span[@class=\"listItem\"]/a/text()')\n",
    "clan_families_info = [[re.sub(r\"\\W\",\"\",re.sub(r\"\\n\",\"\",x)) , y] for x, y in zip(pfam_names, pfam_id)] #Removing spaces and endlines\n",
    "\n"
   ]
  },
  {
   "cell_type": "code",
   "execution_count": null,
   "metadata": {
    "collapsed": false
   },
   "outputs": [],
   "source": [
    "#Database alignments to download\n",
    "db_to_use = \"uniprot\"\n",
    "path_to_save = \"/home/roc/workspace/I-have-time/pfam/\"\n",
    "if not os.path.exists(path_to_save):\n",
    "    os.makedirs(path_to_save)\n",
    "\n",
    "i = 0\n",
    "for family in clan_families_info:\n",
    "    print(i)\n",
    "    i+=1\n",
    "    url = \"http://pfam.xfam.org/family/\"+family[1]+\"/alignment/\"+db_to_use+\"/gzipped\"\n",
    "    os.system(\"wget \"+url+\" -O \"+path_to_save+family[1]+\".gz\")"
   ]
  },
  {
   "cell_type": "code",
   "execution_count": null,
   "metadata": {
    "collapsed": false
   },
   "outputs": [],
   "source": [
    "#listing all files\n",
    "pfam_files = os.listdir(path_to_save)\n",
    "\n",
    "#Opening the output file\n",
    "f_w = open(path_to_save+'all-id.txt', \"w+\")\n",
    "i=0\n",
    "\n",
    "#Iterating through all families\n",
    "for _file in pfam_files:\n",
    "    if _file == 'all-id.txt': continue #Preventing mistakes\n",
    "    i+=1\n",
    "    print(i, _file)\n",
    "    with gzip.open(path_to_save+_file, 'rb') as f:\n",
    "        temp_id = set([record.id.split('.')[0] for record in SeqIO.parse(f, \"stockholm\")]) #Fetching all ids from the file\n",
    "        for elm in temp_id:\n",
    "            f_w.write(elm+'\\n')\n",
    "\n",
    "            \n",
    "\n"
   ]
  }
 ],
 "metadata": {
  "kernelspec": {
   "display_name": "Python 2",
   "language": "python",
   "name": "python2"
  },
  "language_info": {
   "codemirror_mode": {
    "name": "ipython",
    "version": 2
   },
   "file_extension": ".py",
   "mimetype": "text/x-python",
   "name": "python",
   "nbconvert_exporter": "python",
   "pygments_lexer": "ipython2",
   "version": "2.7.6"
  }
 },
 "nbformat": 4,
 "nbformat_minor": 0
}
