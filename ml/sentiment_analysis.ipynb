{
 "cells": [
  {
   "cell_type": "code",
   "execution_count": null,
   "metadata": {},
   "outputs": [],
   "source": [
    "# From: https://towardsdatascience.com/machine-learning-sentiment-analysis-and-word-embeddings-python-keras-example-4dfb93c5a6cf"
   ]
  },
  {
   "cell_type": "code",
   "execution_count": 1,
   "metadata": {},
   "outputs": [
    {
     "name": "stderr",
     "output_type": "stream",
     "text": [
      "Using TensorFlow backend.\n"
     ]
    }
   ],
   "source": [
    "import numpy as np\n",
    "from matplotlib import pyplot as plt\n",
    "plt.style.use('dark_background')\n",
    "from keras.datasets import imdb\n",
    "from keras.models import Sequential\n",
    "from keras.preprocessing.sequence import pad_sequences\n",
    "from keras.layers import Embedding, GlobalAveragePooling1D, Dense"
   ]
  },
  {
   "cell_type": "code",
   "execution_count": 2,
   "metadata": {},
   "outputs": [],
   "source": [
    "num_words = 10000"
   ]
  },
  {
   "cell_type": "code",
   "execution_count": 6,
   "metadata": {},
   "outputs": [
    {
     "name": "stdout",
     "output_type": "stream",
     "text": [
      "Downloading data from https://s3.amazonaws.com/text-datasets/imdb.npz\n",
      "17465344/17464789 [==============================] - 4s 0us/step\n",
      "Training entries: 25000, labels: 25000\n"
     ]
    }
   ],
   "source": [
    "(X_train, y_train), (X_test, y_test) = imdb.load_data(num_words=num_words)\n",
    "\n",
    "print(\"Training entries: {}, labels: {}\".format(len(X_train), len(y_train)))"
   ]
  },
  {
   "cell_type": "code",
   "execution_count": 8,
   "metadata": {},
   "outputs": [
    {
     "name": "stdout",
     "output_type": "stream",
     "text": [
      "[1, 14, 22, 16, 43, 530, 973, 1622, 1385, 65, 458, 4468, 66, 3941, 4, 173, 36, 256, 5, 25, 100, 43, 838, 112, 50, 670, 2, 9, 35, 480, 284, 5, 150, 4, 172, 112, 167, 2, 336, 385, 39, 4, 172, 4536, 1111, 17, 546, 38, 13, 447, 4, 192, 50, 16, 6, 147, 2025, 19, 14, 22, 4, 1920, 4613, 469, 4, 22, 71, 87, 12, 16, 43, 530, 38, 76, 15, 13, 1247, 4, 22, 17, 515, 17, 12, 16, 626, 18, 2, 5, 62, 386, 12, 8, 316, 8, 106, 5, 4, 2223, 5244, 16, 480, 66, 3785, 33, 4, 130, 12, 16, 38, 619, 5, 25, 124, 51, 36, 135, 48, 25, 1415, 33, 6, 22, 12, 215, 28, 77, 52, 5, 14, 407, 16, 82, 2, 8, 4, 107, 117, 5952, 15, 256, 4, 2, 7, 3766, 5, 723, 36, 71, 43, 530, 476, 26, 400, 317, 46, 7, 4, 2, 1029, 13, 104, 88, 4, 381, 15, 297, 98, 32, 2071, 56, 26, 141, 6, 194, 7486, 18, 4, 226, 22, 21, 134, 476, 26, 480, 5, 144, 30, 5535, 18, 51, 36, 28, 224, 92, 25, 104, 4, 226, 65, 16, 38, 1334, 88, 12, 16, 283, 5, 16, 4472, 113, 103, 32, 15, 16, 5345, 19, 178, 32]\n"
     ]
    }
   ],
   "source": [
    "print(X_train[0]) #Already encoded review"
   ]
  },
  {
   "cell_type": "code",
   "execution_count": 11,
   "metadata": {},
   "outputs": [],
   "source": [
    "word_index = imdb.get_word_index()\n",
    "\n",
    "# The first indices are reserved\n",
    "word_index = {k:(v+3) for k,v in word_index.items()} \n",
    "word_index[\"<PAD>\"] = 0\n",
    "word_index[\"<START>\"] = 1\n",
    "word_index[\"<UNK>\"] = 2  # unknown\n",
    "word_index[\"<UNUSED>\"] = 3\n",
    "\n",
    "reverse_word_index = dict([(value, key) for (key, value) in word_index.items()])\n",
    "\n",
    "def decode_review(text):\n",
    "    return ' '.join([reverse_word_index.get(i, '?') for i in text])\n",
    "\n"
   ]
  },
  {
   "cell_type": "code",
   "execution_count": 12,
   "metadata": {},
   "outputs": [
    {
     "name": "stdout",
     "output_type": "stream",
     "text": [
      "<START> this film was just brilliant casting location scenery story direction everyone's really suited the part they played and you could just imagine being there robert <UNK> is an amazing actor and now the same being director <UNK> father came from the same scottish island as myself so i loved the fact there was a real connection with this film the witty remarks throughout the film were great it was just brilliant so much that i bought the film as soon as it was released for <UNK> and would recommend it to everyone to watch and the fly fishing was amazing really cried at the end it was so sad and you know what they say if you cry at a film it must have been good and this definitely was also <UNK> to the two little boy's that played the <UNK> of norman and paul they were just brilliant children are often left out of the <UNK> list i think because the stars that play them all grown up are such a big profile for the whole film but these children are amazing and should be praised for what they have done don't you think the whole story was so lovely because it was true and was someone's life after all that was shared with us all\n"
     ]
    }
   ],
   "source": [
    "print(decode_review(X_train[0])) #Decoded review"
   ]
  },
  {
   "cell_type": "code",
   "execution_count": 13,
   "metadata": {},
   "outputs": [
    {
     "data": {
      "text/plain": [
       "(218, 189)"
      ]
     },
     "execution_count": 13,
     "metadata": {},
     "output_type": "execute_result"
    }
   ],
   "source": [
    "#The reviews should be the same length\n",
    "len(X_train[0]), len(X_train[1]) #they are not"
   ]
  },
  {
   "cell_type": "code",
   "execution_count": 14,
   "metadata": {},
   "outputs": [],
   "source": [
    "# We use padding to make them the same length\n",
    "X_train = pad_sequences(\n",
    "    X_train,\n",
    "    value=word_index[\"<PAD>\"],\n",
    "    padding='post',\n",
    "    maxlen=256\n",
    ")\n",
    "\n",
    "X_test = pad_sequences(\n",
    "    X_test,\n",
    "    value=word_index[\"<PAD>\"],\n",
    "    padding='post',\n",
    "    maxlen=256\n",
    ")"
   ]
  },
  {
   "cell_type": "code",
   "execution_count": 15,
   "metadata": {},
   "outputs": [
    {
     "data": {
      "text/plain": [
       "(256, 256)"
      ]
     },
     "execution_count": 15,
     "metadata": {},
     "output_type": "execute_result"
    }
   ],
   "source": [
    "#Now they are the same length\n",
    "len(X_train[0]), len(X_train[1])"
   ]
  },
  {
   "cell_type": "code",
   "execution_count": 17,
   "metadata": {},
   "outputs": [
    {
     "name": "stdout",
     "output_type": "stream",
     "text": [
      "_________________________________________________________________\n",
      "Layer (type)                 Output Shape              Param #   \n",
      "=================================================================\n",
      "embedding_1 (Embedding)      (None, 256, 16)           160000    \n",
      "_________________________________________________________________\n",
      "global_average_pooling1d_1 ( (None, 16)                0         \n",
      "_________________________________________________________________\n",
      "dense_1 (Dense)              (None, 16)                272       \n",
      "_________________________________________________________________\n",
      "dense_2 (Dense)              (None, 1)                 17        \n",
      "=================================================================\n",
      "Total params: 160,289\n",
      "Trainable params: 160,289\n",
      "Non-trainable params: 0\n",
      "_________________________________________________________________\n"
     ]
    }
   ],
   "source": [
    "# To prevent one hot encoding for all the possible words we need an embedding\n",
    "model = Sequential()\n",
    "model.add(Embedding(input_dim=num_words, output_dim=16, input_length=256))\n",
    "model.add(GlobalAveragePooling1D())\n",
    "model.add(Dense(16, activation='relu'))\n",
    "model.add(Dense(1, activation='sigmoid'))\n",
    "\n",
    "model.summary()"
   ]
  },
  {
   "cell_type": "code",
   "execution_count": 31,
   "metadata": {},
   "outputs": [],
   "source": [
    "# We use adam as our optimizer and binary crossentropy as our loss function since we’re trying to choose between two classes.\n",
    "model.compile(\n",
    "    optimizer='adam',\n",
    "    loss='binary_crossentropy',\n",
    "    metrics=['accuracy']\n",
    ")"
   ]
  },
  {
   "cell_type": "code",
   "execution_count": 32,
   "metadata": {},
   "outputs": [
    {
     "name": "stdout",
     "output_type": "stream",
     "text": [
      "Train on 22500 samples, validate on 2500 samples\n",
      "Epoch 1/20\n",
      "22500/22500 [==============================] - 3s 120us/step - loss: 5.6241e-05 - acc: 1.0000 - val_loss: 1.4025 - val_acc: 0.8560\n",
      "Epoch 2/20\n",
      "22500/22500 [==============================] - 3s 114us/step - loss: 5.4831e-05 - acc: 1.0000 - val_loss: 1.4113 - val_acc: 0.8556\n",
      "Epoch 3/20\n",
      "22500/22500 [==============================] - 3s 112us/step - loss: 4.5067e-05 - acc: 1.0000 - val_loss: 1.4187 - val_acc: 0.8564\n",
      "Epoch 4/20\n",
      "22500/22500 [==============================] - 2s 111us/step - loss: 4.0612e-05 - acc: 1.0000 - val_loss: 1.4285 - val_acc: 0.8564\n",
      "Epoch 5/20\n",
      "22500/22500 [==============================] - 3s 113us/step - loss: 3.3747e-05 - acc: 1.0000 - val_loss: 1.4365 - val_acc: 0.8568\n",
      "Epoch 6/20\n",
      "22500/22500 [==============================] - 3s 132us/step - loss: 3.1992e-05 - acc: 1.0000 - val_loss: 1.4472 - val_acc: 0.8564\n",
      "Epoch 7/20\n",
      "22500/22500 [==============================] - 3s 140us/step - loss: 3.1684e-05 - acc: 1.0000 - val_loss: 1.4572 - val_acc: 0.8556\n",
      "Epoch 8/20\n",
      "22500/22500 [==============================] - 4s 167us/step - loss: 2.3990e-05 - acc: 1.0000 - val_loss: 1.4643 - val_acc: 0.8548\n",
      "Epoch 9/20\n",
      "22500/22500 [==============================] - 3s 146us/step - loss: 2.4241e-05 - acc: 1.0000 - val_loss: 1.4705 - val_acc: 0.8560\n",
      "Epoch 10/20\n",
      "22500/22500 [==============================] - 3s 129us/step - loss: 1.9929e-05 - acc: 1.0000 - val_loss: 1.4755 - val_acc: 0.8556\n",
      "Epoch 11/20\n",
      "22500/22500 [==============================] - 4s 156us/step - loss: 1.9276e-05 - acc: 1.0000 - val_loss: 1.4828 - val_acc: 0.8556\n",
      "Epoch 12/20\n",
      "22500/22500 [==============================] - 4s 166us/step - loss: 1.6794e-05 - acc: 1.0000 - val_loss: 1.4893 - val_acc: 0.8552\n",
      "Epoch 13/20\n",
      "22500/22500 [==============================] - 3s 136us/step - loss: 2.0233e-05 - acc: 1.0000 - val_loss: 1.4940 - val_acc: 0.8564\n",
      "Epoch 14/20\n",
      "22500/22500 [==============================] - 3s 116us/step - loss: 1.3742e-05 - acc: 1.0000 - val_loss: 1.4992 - val_acc: 0.8560\n",
      "Epoch 15/20\n",
      "22500/22500 [==============================] - 3s 115us/step - loss: 1.3697e-05 - acc: 1.0000 - val_loss: 1.5100 - val_acc: 0.8540\n",
      "Epoch 16/20\n",
      "22500/22500 [==============================] - 3s 113us/step - loss: 1.2095e-05 - acc: 1.0000 - val_loss: 1.5092 - val_acc: 0.8552\n",
      "Epoch 17/20\n",
      "22500/22500 [==============================] - 3s 114us/step - loss: 1.0771e-05 - acc: 1.0000 - val_loss: 1.5153 - val_acc: 0.8544\n",
      "Epoch 18/20\n",
      "22500/22500 [==============================] - 3s 111us/step - loss: 1.0395e-05 - acc: 1.0000 - val_loss: 1.5197 - val_acc: 0.8552\n",
      "Epoch 19/20\n",
      "22500/22500 [==============================] - 3s 112us/step - loss: 9.4673e-06 - acc: 1.0000 - val_loss: 1.5212 - val_acc: 0.8564\n",
      "Epoch 20/20\n",
      "22500/22500 [==============================] - 3s 112us/step - loss: 1.0873e-05 - acc: 1.0000 - val_loss: 1.5293 - val_acc: 0.8552\n"
     ]
    }
   ],
   "source": [
    "# For every epoch 512 reviews pass through the neural network before updating the weights\n",
    "history = model.fit(\n",
    "    X_train,\n",
    "    y_train,\n",
    "    epochs=20,\n",
    "    batch_size=512,\n",
    "    validation_split=0.1,\n",
    "    shuffle=True\n",
    ")"
   ]
  },
  {
   "cell_type": "code",
   "execution_count": 33,
   "metadata": {},
   "outputs": [
    {
     "data": {
      "image/png": "[encoded data removed]",
      "text/plain": [
       "<matplotlib.figure.Figure at 0x7f1497e987b8>"
      ]
     },
     "metadata": {},
     "output_type": "display_data"
    }
   ],
   "source": [
    "# We can plot the training and validation accuracy and loss at each epoch by using the history variable returned by the fit function.\n",
    "loss = history.history['loss']\n",
    "val_loss = history.history['val_loss']\n",
    "epochs = range(1, len(loss) + 1)\n",
    "plt.plot(epochs, loss, 'y', label='Training loss')\n",
    "plt.plot(epochs, val_loss, 'r', label='Validation loss')\n",
    "plt.title('Training and validation loss')\n",
    "plt.xlabel('Epochs')\n",
    "plt.ylabel('Loss')\n",
    "plt.legend()\n",
    "plt.show()"
   ]
  },
  {
   "cell_type": "code",
   "execution_count": 34,
   "metadata": {},
   "outputs": [
    {
     "data": {
      "image/png": "[encoded data removed]",
      "text/plain": [
       "<matplotlib.figure.Figure at 0x7f1497e88860>"
      ]
     },
     "metadata": {},
     "output_type": "display_data"
    }
   ],
   "source": [
    "acc = history.history['acc']\n",
    "val_acc = history.history['val_acc']\n",
    "plt.plot(epochs, acc, 'y', label='Training acc')\n",
    "plt.plot(epochs, val_acc, 'r', label='Validation acc')\n",
    "plt.title('Training and validation accuracy')\n",
    "plt.xlabel('Epochs')\n",
    "plt.ylabel('Accuracy')\n",
    "plt.legend()\n",
    "plt.show()"
   ]
  },
  {
   "cell_type": "code",
   "execution_count": 35,
   "metadata": {},
   "outputs": [
    {
     "name": "stdout",
     "output_type": "stream",
     "text": [
      "25000/25000 [==============================] - 2s 64us/step\n",
      "0.83528\n"
     ]
    }
   ],
   "source": [
    "# Assessing performance on the testing set\n",
    "\n",
    "test_loss, test_acc = model.evaluate(X_test, y_test)\n",
    "print(test_acc)"
   ]
  },
  {
   "cell_type": "code",
   "execution_count": null,
   "metadata": {},
   "outputs": [],
   "source": []
  },
  {
   "cell_type": "code",
   "execution_count": null,
   "metadata": {},
   "outputs": [],
   "source": []
  }
 ],
 "metadata": {
  "kernelspec": {
   "display_name": "Python 3",
   "language": "python",
   "name": "python3"
  },
  "language_info": {
   "codemirror_mode": {
    "name": "ipython",
    "version": 3
   },
   "file_extension": ".py",
   "mimetype": "text/x-python",
   "name": "python",
   "nbconvert_exporter": "python",
   "pygments_lexer": "ipython3",
   "version": "3.4.3"
  }
 },
 "nbformat": 4,
 "nbformat_minor": 2
}
