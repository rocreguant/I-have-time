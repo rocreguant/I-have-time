{
 "cells": [
  {
   "cell_type": "code",
   "execution_count": 14,
   "metadata": {
    "collapsed": true
   },
   "outputs": [],
   "source": [
    "import re\n",
    "import os\n",
    "import gzip\n",
    "import requests\n",
    "from lxml import html\n",
    "import time\n",
    "\n",
    "import pandas as pd\n"
   ]
  },
  {
   "cell_type": "code",
   "execution_count": null,
   "metadata": {
    "collapsed": false
   },
   "outputs": [],
   "source": [
    "df = pd.read_csv(\"/home/roc/Downloads/genome_Roc_Reguant_v5_Full_20171020090133.txt\", sep=\"\\t\")\n",
    "\n",
    "r = open(\"/home/roc/Downloads/read.txt\", \"w\")\n",
    "u = open(\"/home/roc/Downloads/useful.txt\", \"w\")\n",
    "\n",
    "#result = []\n",
    "\n",
    "for snp_id in df.rsid.tolist():\n",
    "\n",
    "    #wrong....\n",
    "    #To continue from the last\n",
    "    #if snp_id == 'rs2971987' : continue\n",
    "    \n",
    "    #Setting the absolute SNP url\n",
    "    snp_url = \"https://www.snpedia.com/index.php/\"+snp_id\n",
    "\n",
    "    #If the connection fails waits a minute and starts trying again\n",
    "    b = True\n",
    "    while(b):\n",
    "        try:\n",
    "            #Getting the HTML and building the tree to query\n",
    "            response = requests.get(snp_url)\n",
    "            b = False\n",
    "        except:\n",
    "            time.sleep(60)\n",
    "    \n",
    "    #If page has some text\n",
    "    if not 'There is currently no text in this page' in response.text:\n",
    "        if 'PMID' in response.text:\n",
    "            u.write(snp_id+\"\\n\")\n",
    "            result.append(snp_id)\n",
    "    \n",
    "\n",
    "    \n",
    "    r.write(snp_id+\"\\n\")\n",
    "    \n",
    "\n",
    "r.close()\n",
    "u.close()"
   ]
  },
  {
   "cell_type": "code",
   "execution_count": 20,
   "metadata": {
    "collapsed": false
   },
   "outputs": [
    {
     "data": {
      "text/html": [
       "<div style=\"max-height:1000px;max-width:1500px;overflow:auto;\">\n",
       "<table border=\"1\" class=\"dataframe\">\n",
       "  <thead>\n",
       "    <tr style=\"text-align: right;\">\n",
       "      <th></th>\n",
       "      <th>rsid</th>\n",
       "      <th>chromosome</th>\n",
       "      <th>position</th>\n",
       "      <th>genotype</th>\n",
       "    </tr>\n",
       "  </thead>\n",
       "  <tbody>\n",
       "    <tr>\n",
       "      <th>0</th>\n",
       "      <td> rs548049170</td>\n",
       "      <td> 1</td>\n",
       "      <td>  69869</td>\n",
       "      <td> TT</td>\n",
       "    </tr>\n",
       "    <tr>\n",
       "      <th>1</th>\n",
       "      <td>  rs13328684</td>\n",
       "      <td> 1</td>\n",
       "      <td>  74792</td>\n",
       "      <td> --</td>\n",
       "    </tr>\n",
       "    <tr>\n",
       "      <th>2</th>\n",
       "      <td>   rs9283150</td>\n",
       "      <td> 1</td>\n",
       "      <td> 565508</td>\n",
       "      <td> --</td>\n",
       "    </tr>\n",
       "    <tr>\n",
       "      <th>3</th>\n",
       "      <td>     i713426</td>\n",
       "      <td> 1</td>\n",
       "      <td> 726912</td>\n",
       "      <td> --</td>\n",
       "    </tr>\n",
       "    <tr>\n",
       "      <th>4</th>\n",
       "      <td> rs116587930</td>\n",
       "      <td> 1</td>\n",
       "      <td> 727841</td>\n",
       "      <td> GG</td>\n",
       "    </tr>\n",
       "  </tbody>\n",
       "</table>\n",
       "<p>5 rows × 4 columns</p>\n",
       "</div>"
      ],
      "text/plain": [
       "          rsid chromosome  position genotype\n",
       "0  rs548049170          1     69869       TT\n",
       "1   rs13328684          1     74792       --\n",
       "2    rs9283150          1    565508       --\n",
       "3      i713426          1    726912       --\n",
       "4  rs116587930          1    727841       GG\n",
       "\n",
       "[5 rows x 4 columns]"
      ]
     },
     "execution_count": 20,
     "metadata": {},
     "output_type": "execute_result"
    }
   ],
   "source": [
    "\n",
    "df.head()"
   ]
  },
  {
   "cell_type": "code",
   "execution_count": 37,
   "metadata": {
    "collapsed": false
   },
   "outputs": [
    {
     "data": {
      "text/plain": [
       "330"
      ]
     },
     "execution_count": 37,
     "metadata": {},
     "output_type": "execute_result"
    }
   ],
   "source": [
    "len(result)"
   ]
  }
 ],
 "metadata": {
  "kernelspec": {
   "display_name": "Python 2",
   "language": "python",
   "name": "python2"
  },
  "language_info": {
   "codemirror_mode": {
    "name": "ipython",
    "version": 2
   },
   "file_extension": ".py",
   "mimetype": "text/x-python",
   "name": "python",
   "nbconvert_exporter": "python",
   "pygments_lexer": "ipython2",
   "version": "2.7.6"
  }
 },
 "nbformat": 4,
 "nbformat_minor": 0
}
